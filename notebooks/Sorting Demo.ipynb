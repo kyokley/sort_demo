{
 "cells": [
  {
   "cell_type": "markdown",
   "metadata": {},
   "source": [
    "# Sorting Demo\n",
    "## Introduction\n",
    "Welcome to my sorting demo! Below, I have implemented a couple of different algorithms for sorting lists. I hope to be able to show that there are different methods for achieving the same result but each method has a different efficiency in terms of time and space complexity. For the purpose of this demo, I will be focusing only on time complexity.\n",
    "\n",
    "Time complexity is a somewhat abstract concept and can be measured in different ways. By looking at the number of comparisons required to complete the algorithm, we have a rough way of comparing the different algorithms."
   ]
  },
  {
   "cell_type": "markdown",
   "metadata": {},
   "source": [
    "## Setup\n",
    "In order to run the code below, select each cell and click the *Run* button above. The code in the following cell must be run before any other cells as it is required to set things up for the other functions. After running the following cell, the others can be run in any order.\n",
    "\n",
    "For each algorithm, notice the number of comparisons (Cmps) and try to understand why one would be better than any other."
   ]
  },
  {
   "cell_type": "code",
   "execution_count": null,
   "metadata": {
    "code_folding": [
     8,
     11,
     27
    ]
   },
   "outputs": [],
   "source": [
    "import random\n",
    "import time\n",
    "\n",
    "from sys import stdout\n",
    "\n",
    "PRINT_DELAY = .5\n",
    "DEFAULT_LIST_LENGTH = 10\n",
    "\n",
    "def generate_random_list(num_items):\n",
    "    return [random.randint(0, 10) for _ in range(num_items)]\n",
    "\n",
    "def print_linear_sort_info(idx, minimum_index, minimum_candidate, comparisons, sorted_list):\n",
    "    stdout.write('\\r')\n",
    "    stdout.write('CurIndex: ')\n",
    "    stdout.write(str(idx))\n",
    "    stdout.write(' MinIndex: ')\n",
    "    stdout.write(str(minimum_index))\n",
    "    stdout.write(' MinCand: ')\n",
    "    stdout.write(str(minimum_candidate))\n",
    "    stdout.write(' Cmps: ')\n",
    "    stdout.write(str(comparisons))\n",
    "    stdout.write('    Sorted list: ')\n",
    "    stdout.write(str(sorted_list))\n",
    "    stdout.write(' ' * 10)\n",
    "    stdout.flush()\n",
    "    time.sleep(PRINT_DELAY)\n",
    "    \n",
    "def print_bubble_sort_info(idx, comparisons, items):\n",
    "    stdout.write('\\r')\n",
    "    stdout.write('CurIndex: ')\n",
    "    stdout.write(str(idx))\n",
    "    stdout.write(' Cmps: ')\n",
    "    stdout.write(str(comparisons))\n",
    "    stdout.write('    Sorted list: ')\n",
    "    stdout.write(str(items))\n",
    "    stdout.write(' ' * 10)\n",
    "    stdout.flush()\n",
    "    time.sleep(PRINT_DELAY)\n"
   ]
  },
  {
   "cell_type": "markdown",
   "metadata": {},
   "source": [
    "## Linear Sort\n",
    "The first algorithm is a linear sort. This is the most naive algorithm but also the simplest to understand. Sorting is achieved by iterating through the list and keeping track of the smallest value found in each iteration. The smallest value is added to the end of the sorted list."
   ]
  },
  {
   "cell_type": "code",
   "execution_count": null,
   "metadata": {
    "code_folding": [
     0,
     3,
     13
    ]
   },
   "outputs": [],
   "source": [
    "def linear_sort(inList):\n",
    "    items = inList.copy()\n",
    "    original_list = items.copy()\n",
    "    if len(items) <= 1:\n",
    "        return items\n",
    "    \n",
    "    sorted_list = []\n",
    "    comparisons = 0\n",
    "    minimum_candidate = None\n",
    "    \n",
    "    stdout.write('Original list: ')\n",
    "    stdout.write(str(original_list) + '\\n')\n",
    "    \n",
    "    for i in range(len(items)):\n",
    "        minimum_candidate = None\n",
    "        minimum_index = None\n",
    "        \n",
    "        for idx, val in enumerate(items):\n",
    "            print_linear_sort_info(idx, minimum_index, minimum_candidate, comparisons, sorted_list)\n",
    "        \n",
    "            if minimum_candidate is None or minimum_candidate > val:\n",
    "                minimum_candidate = val\n",
    "                minimum_index = idx\n",
    "                \n",
    "            comparisons += 1\n",
    "                \n",
    "        sorted_list.append(minimum_candidate)\n",
    "        items.pop(minimum_index)\n",
    "        \n",
    "    print_linear_sort_info(idx, minimum_index, minimum_candidate, comparisons, sorted_list)\n",
    "    return sorted_list\n",
    "\n",
    "rand_list = generate_random_list(DEFAULT_LIST_LENGTH)\n",
    "linear_sort(rand_list)"
   ]
  },
  {
   "cell_type": "markdown",
   "metadata": {},
   "source": [
    "## Bubble Sort\n",
    "Bubble sort is a fun algorithm. Its name is derived from how the larger values seem to \"bubble up\" to the top of the list with each iteration. If you follow the output closely, you can see this behavior.\n",
    "\n",
    "The time complexity of bubble sort and the linear sort above are actually the same. The number of comparisons between the two algorithms is about the same. This becomes more apparent as the number of items in the list increases."
   ]
  },
  {
   "cell_type": "code",
   "execution_count": null,
   "metadata": {
    "code_folding": [
     0
    ]
   },
   "outputs": [],
   "source": [
    "def bubble_sort(inList):\n",
    "    items = inList.copy()\n",
    "    original_list = items.copy()\n",
    "    \n",
    "    if len(items) <= 1:\n",
    "        return items\n",
    "    \n",
    "    def swap(lst, idxA, idxB):\n",
    "        tmp = lst[idxA]\n",
    "        lst[idxA] = lst[idxB]\n",
    "        lst[idxB] = tmp\n",
    "    \n",
    "    sorted_list = []\n",
    "    comparisons = 0\n",
    "    \n",
    "    stdout.write('Original list: ')\n",
    "    stdout.write(str(original_list) + '\\n')\n",
    "    \n",
    "    for i in range(len(items) - 1):\n",
    "        for j in range(len(items) - 1 - i):\n",
    "            print_bubble_sort_info(j, comparisons, items)\n",
    "            \n",
    "            comparisons += 1\n",
    "            if items[j] > items[j + 1]:\n",
    "                swap(items, j, j + 1)\n",
    "    return items\n",
    "\n",
    "rand_list = generate_random_list(DEFAULT_LIST_LENGTH)\n",
    "bubble_sort(rand_list)"
   ]
  },
  {
   "cell_type": "markdown",
   "metadata": {},
   "source": [
    "## Kevin Sort\n",
    "I can't take all of the credit for this algorithm because I can't remember the actual name for it. The sorting is done by iterating through the list, selecting a pivot value, and splitting the list into smaller sub-problems. By recursively solving the sub-problems and merging their results, the list is sorted."
   ]
  },
  {
   "cell_type": "code",
   "execution_count": null,
   "metadata": {
    "code_folding": [
     0
    ]
   },
   "outputs": [],
   "source": [
    "def kevin_sort(inList):\n",
    "    items = inList.copy()\n",
    "    original_list = items.copy()\n",
    "    if len(items) <= 1:\n",
    "        return items\n",
    "    \n",
    "    sorted_list = []\n",
    "    comparisons = 0\n",
    "    minimum_candidate = None\n",
    "    \n",
    "    stdout.write('Original list: ')\n",
    "    stdout.write(str(original_list) + '\\n')\n",
    "    stdout.flush()\n",
    "    \n",
    "    def kevin_sort_helper(lst):\n",
    "        unsorted_output = []\n",
    "        sorted_output = []\n",
    "        \n",
    "        if len(lst) == 0:\n",
    "            return ([], 0, '', '')\n",
    "        \n",
    "        comparisons = 0\n",
    "        \n",
    "        pivot = lst[0]\n",
    "        left = []\n",
    "        right = []\n",
    "        \n",
    "        for item in lst[1:]:\n",
    "            comparisons += 1\n",
    "            if pivot > item:\n",
    "                left.append(item)\n",
    "            elif pivot <= item:\n",
    "                right.append(item)\n",
    "                \n",
    "        sorted_left, left_comps, left_unsorted_output, left_sorted_output = kevin_sort_helper(left)\n",
    "        sorted_right, right_comps, right_unsorted_output, right_sorted_output = kevin_sort_helper(right)\n",
    "        \n",
    "        unsorted_output.extend(left_unsorted_output)\n",
    "        unsorted_output.extend(right_unsorted_output)\n",
    "        \n",
    "        sorted_output.extend(left_sorted_output)\n",
    "        sorted_output.extend(right_sorted_output)\n",
    "        \n",
    "        unsorted_output.append('Unsorted left: {} Pivot: {} Unsorted right: {}'.format(left, pivot, right))\n",
    "        sorted_output.append('Sorted left: {} Pivot: {} Sorted right: {}'.format(sorted_left, pivot, sorted_right))\n",
    "        unsorted_output.append('')\n",
    "        sorted_output.append('')\n",
    "        \n",
    "        return (sorted_left + [pivot] + sorted_right, \n",
    "                left_comps + right_comps + comparisons, \n",
    "                unsorted_output, \n",
    "                sorted_output)\n",
    "        \n",
    "    sorted_list, total_comps, unsorted_output, sorted_output = kevin_sort_helper(items)\n",
    "    unsorted_output.reverse()\n",
    "    for line in unsorted_output:\n",
    "        time.sleep(PRINT_DELAY)\n",
    "        print(line)\n",
    "        \n",
    "    print()\n",
    "    print('*' * 5 + ' Begin merging ' + '*' * 5)\n",
    "    print()\n",
    "    \n",
    "    for line in sorted_output:\n",
    "        time.sleep(PRINT_DELAY)\n",
    "        print(line)\n",
    "        \n",
    "    print()\n",
    "    print('Total Comparisons: {}'.format(total_comps))\n",
    "    \n",
    "    return sorted_list\n",
    "\n",
    "rand_list = generate_random_list(DEFAULT_LIST_LENGTH)\n",
    "kevin_sort(rand_list)"
   ]
  },
  {
   "cell_type": "markdown",
   "metadata": {},
   "source": [
    "## Conclusion\n",
    "The time complexities for linear sort and bubble sort were about the same but kevin sort turns out to be far better. It can be difficult to see this with smaller lists so I would encourage you to change the number of items in the list and see how that affects the number of comparisons required. List length can be modified by changing the value of *DEFAULT_LIST_LENGTH* in the first code cell and re-running it."
   ]
  },
  {
   "cell_type": "code",
   "execution_count": null,
   "metadata": {},
   "outputs": [],
   "source": []
  }
 ],
 "metadata": {
  "kernelspec": {
   "display_name": "Python 3",
   "language": "python",
   "name": "python3"
  },
  "language_info": {
   "codemirror_mode": {
    "name": "ipython",
    "version": 3
   },
   "file_extension": ".py",
   "mimetype": "text/x-python",
   "name": "python",
   "nbconvert_exporter": "python",
   "pygments_lexer": "ipython3",
   "version": "3.6.2"
  }
 },
 "nbformat": 4,
 "nbformat_minor": 2
}
